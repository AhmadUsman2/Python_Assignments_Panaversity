{
 "cells": [
  {
   "cell_type": "markdown",
   "metadata": {},
   "source": [
    "## Python Programming Assignment 01\n",
    "\n",
    "- Assignment by: Ahmad Usman\n",
    "- Batch-47 LHR\n",
    "- Roll NO. "
   ]
  },
  {
   "cell_type": "markdown",
   "metadata": {},
   "source": [
    "1. Age Assignments Based on the Riddle\n",
    "\n",
    "Problem Statement: Write a program to solve this age-related riddle! Anton, Beth, Chen, Drew, and Ethan are all friends. Their ages are as follows:\n",
    "- Anton is 21 years old.\n",
    "- Beth is 6 years older than Anton.\n",
    "- Chen is 20 years older than Beth.\n",
    "- Drew is as old as Chen's age plus Anton's age.\n",
    "- Ethan is the same age as Chen.\n",
    "\n",
    "\n",
    "Your code should store each person's age to a variable and print their names and ages at the end."
   ]
  },
  {
   "cell_type": "code",
   "execution_count": 8,
   "metadata": {},
   "outputs": [
    {
     "name": "stdout",
     "output_type": "stream",
     "text": [
      "Anton is 21\n",
      "Beth is 27\n",
      "Chen is 47\n",
      "Drew is 68\n",
      "Ethan is 47\n"
     ]
    }
   ],
   "source": [
    "Anton_age:int = 21\n",
    "Beth_age:int = 27\n",
    "Chen_age:int = 47\n",
    "Drew_age:int = 68\n",
    "Ethan_age:int = 47\n",
    "\n",
    "\n",
    "print(f\"Anton is {Anton_age}\")\n",
    "print(f\"Beth is {Beth_age}\")\n",
    "print(f\"Chen is {Chen_age}\")\n",
    "print(f\"Drew is {Drew_age}\")\n",
    "print(f\"Ethan is {Ethan_age}\")\n",
    "\n"
   ]
  },
  {
   "cell_type": "markdown",
   "metadata": {},
   "source": [
    "2. Formatted String Interpolation\n",
    "\n",
    "- Task: Given the variables name, age, and city, use f-strings to construct a sentence that describes a person using these variables."
   ]
  },
  {
   "cell_type": "code",
   "execution_count": 10,
   "metadata": {},
   "outputs": [
    {
     "name": "stdout",
     "output_type": "stream",
     "text": [
      "Alice is 30 years old and lives in New York\n"
     ]
    }
   ],
   "source": [
    "name:str = \"Alice\"\n",
    "age:int = 30\n",
    "city:str = \"New York\"\n",
    "\n",
    "\n",
    "print (f\"{name} is {age} years old and lives in {city}\")"
   ]
  },
  {
   "cell_type": "markdown",
   "metadata": {},
   "source": [
    "3. String Manipulation\n",
    "\n",
    "Task: Given the string s, use string methods to:\n",
    "- Capitalize the first letter: make the first character uppercase and the rest of the string lowercase.\n",
    "- Convert to uppercase: change all characters in the string to uppercase.\n",
    "- Convert to lowercase: change all characters in the string to lowercase."
   ]
  },
  {
   "cell_type": "code",
   "execution_count": 14,
   "metadata": {},
   "outputs": [
    {
     "name": "stdout",
     "output_type": "stream",
     "text": [
      "Hello world\n",
      "HELLO WORLD\n",
      "hello world\n"
     ]
    }
   ],
   "source": [
    "s:str = \"hElLo WoRlD\"\n",
    "\n",
    "\n",
    "print(s.capitalize())\n",
    "print(s.upper())\n",
    "print(s.lower())\n"
   ]
  },
  {
   "cell_type": "markdown",
   "metadata": {},
   "source": [
    "4. Substring Search\n",
    "\n",
    "Task: Given the string s, use string methods to:\n",
    "- Find the index of \"fox\": get the starting index of the substring \"fox\". If \"fox\" is not found, it should return -1.\n",
    "- Count occurrences of \"the\": Use the string's built-in method to count how many times the substring \"the\" appears in the string."
   ]
  },
  {
   "cell_type": "code",
   "execution_count": 18,
   "metadata": {},
   "outputs": [
    {
     "name": "stdout",
     "output_type": "stream",
     "text": [
      "index of 'fox' is 16\n",
      "'the' appears 2 times\n"
     ]
    }
   ],
   "source": [
    "s:str =\"the quick brown fox jumps over the lazy dog\"\n",
    "\n",
    "print(f\"index of 'fox' is {s.find('fox')}\")\n",
    "print (f\"'the' appears {s.count('the')} times\")"
   ]
  },
  {
   "cell_type": "markdown",
   "metadata": {},
   "source": [
    "5. String Replacement\n",
    "\n",
    "Task: Given the string s, use string methods to:\n",
    "\n",
    "- Replace \"Python\" with \"Java\": substitute \"Python\" with \"Java\"."
   ]
  },
  {
   "cell_type": "code",
   "execution_count": 20,
   "metadata": {},
   "outputs": [
    {
     "name": "stdout",
     "output_type": "stream",
     "text": [
      "I love programming in Java\n"
     ]
    }
   ],
   "source": [
    "s:str =\"I love programming in Python\"\n",
    "\n",
    "print (f\"I love programming in Python\".replace(\"Python\",\"Java\"))"
   ]
  },
  {
   "cell_type": "markdown",
   "metadata": {},
   "source": [
    "6. String Splitting and Joining\n",
    "\n",
    "Task: Given the string s, use string methods to:\n",
    "- Split into a list: break the string into a list of substrings based on the delimiter ,.\n",
    "- Join with spaces: combine the list of substrings back into a single string, with each element separated by a space."
   ]
  },
  {
   "cell_type": "code",
   "execution_count": 25,
   "metadata": {},
   "outputs": [
    {
     "name": "stdout",
     "output_type": "stream",
     "text": [
      "['apple', 'banana', 'cherry', 'dates']\n",
      "apple banana cherry dates\n"
     ]
    }
   ],
   "source": [
    "s:str =\"apple,banana,cherry,dates\"\n",
    "\n",
    "print (s.split(\",\"))\n",
    "print (s.replace(\",\",\" \"))"
   ]
  },
  {
   "cell_type": "markdown",
   "metadata": {},
   "source": [
    "7. String Stripping and Justifying\n",
    "\n",
    "Task: Given the string s, use string methods to:\n",
    "- Remove leading/trailing spaces: remove all leading and trailing whitespace characters from the string.\n",
    "- Left justify with '*': left justify the string within a field of width 20, using * as the fill character.\n",
    "- Right justify with '*': right justify the string within a field of width 20, using * as the fill character."
   ]
  },
  {
   "cell_type": "code",
   "execution_count": 41,
   "metadata": {},
   "outputs": [
    {
     "name": "stdout",
     "output_type": "stream",
     "text": [
      "Python is fun!\n",
      "******Python is fun!\n",
      "Python is fun!******\n"
     ]
    }
   ],
   "source": [
    "s:str =\"   Python is fun!   \"\n",
    "\n",
    "print (s.strip())\n",
    "print (s.strip().rjust(20,\"*\"))\n",
    "print (s.strip().ljust(20,\"*\"))\n"
   ]
  },
  {
   "cell_type": "markdown",
   "metadata": {},
   "source": [
    "8. Convert an integer to its binary representation\n",
    "\n",
    "Task: Given an integer num\n",
    "- Obtain the binary representation of num"
   ]
  },
  {
   "cell_type": "code",
   "execution_count": 46,
   "metadata": {},
   "outputs": [
    {
     "name": "stdout",
     "output_type": "stream",
     "text": [
      "Binary Representation : 0b101101\n"
     ]
    }
   ],
   "source": [
    "num:int = 45\n",
    "\n",
    "binary_representation = bin(num)\n",
    "\n",
    "print(f\"Binary Representation : {binary_representation}\")"
   ]
  },
  {
   "cell_type": "markdown",
   "metadata": {},
   "source": [
    "\n",
    "9. Calculate Powers of Numbers.\n",
    "\n",
    "Task: Given two integers base and exponent\n",
    "- Compute base raised to the power of exponent."
   ]
  },
  {
   "cell_type": "code",
   "execution_count": 48,
   "metadata": {},
   "outputs": [
    {
     "name": "stdout",
     "output_type": "stream",
     "text": [
      "Power result : 81\n"
     ]
    }
   ],
   "source": [
    "base:int = 3\n",
    "exponent:int = 4\n",
    "\n",
    "power = base**exponent\n",
    "\n",
    "print(f\"Power result : {power}\")"
   ]
  },
  {
   "cell_type": "markdown",
   "metadata": {},
   "source": [
    "10. Round floating-point numbers\n",
    "\n",
    "Task: Given a floating-point number value\n",
    "- Round value to the nearest integer.\n",
    "- Round value to two decimal places."
   ]
  },
  {
   "cell_type": "code",
   "execution_count": 56,
   "metadata": {},
   "outputs": [
    {
     "name": "stdout",
     "output_type": "stream",
     "text": [
      "Rounded to nearest integer: 12\n",
      "Rounded to two decimal places: 12.35\n"
     ]
    }
   ],
   "source": [
    "value:float = 12.34567\n",
    "\n",
    "rounded:int = round(value)\n",
    "rounded_two_decimals:int = round(value,2)\n",
    "\n",
    "print(f\"Rounded to nearest integer: {rounded}\")\n",
    "print(f\"Rounded to two decimal places: {rounded_two_decimals}\")"
   ]
  },
  {
   "cell_type": "code",
   "execution_count": null,
   "metadata": {},
   "outputs": [],
   "source": []
  }
 ],
 "metadata": {
  "kernelspec": {
   "display_name": "Python 3",
   "language": "python",
   "name": "python3"
  },
  "language_info": {
   "codemirror_mode": {
    "name": "ipython",
    "version": 3
   },
   "file_extension": ".py",
   "mimetype": "text/x-python",
   "name": "python",
   "nbconvert_exporter": "python",
   "pygments_lexer": "ipython3",
   "version": "3.12.2"
  }
 },
 "nbformat": 4,
 "nbformat_minor": 2
}
